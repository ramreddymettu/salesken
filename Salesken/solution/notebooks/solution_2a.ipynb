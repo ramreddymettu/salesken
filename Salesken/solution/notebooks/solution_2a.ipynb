{
 "cells": [
  {
   "cell_type": "markdown",
   "metadata": {},
   "source": [
    "# Problem 2\n",
    "- Find the Semantic Similarity.\n",
    "- Given a list of sentences (list_of_setences.txt) write an algorithm which computes the semantic similarity and return the similar sentences together.\n",
    "\n",
    "# Algorithm\n",
    "- Load the sentences.\n",
    "- To calculate sentence similarities, we are using **Spacy Embedding Vectors**.(Can use advanced embeddings such as Universal Senctence Encoder emddings, but they are computationally expensive).\n",
    "  - Embedding Vectors are learned(Symantic and Syntactic) weights for each word on huge corpora.\n",
    "- For a given sentence, load the each embedding vector corresponding to a word in sentence.\n",
    "- Average every word embedding embedding vector to get the sendtence embedding.\n",
    "- Find the **Cosine** similarities between each sentence for finding **Semantic Similarity**.\n",
    "- Decide a **threshold(>0.75 here)** for semantic similarity to find similar sentences.\n",
    "- After deciding threshold, we iterate over each sentence embedding to calculate the similarity. Get group of Index with > threshold value. \n",
    "- With list list of indices in hand, get respective senteses list and return them.\n"
   ]
  },
  {
   "cell_type": "code",
   "execution_count": 25,
   "metadata": {},
   "outputs": [],
   "source": [
    "import spacy\n",
    "import numpy as np"
   ]
  },
  {
   "cell_type": "code",
   "execution_count": 26,
   "metadata": {},
   "outputs": [],
   "source": [
    "nlp = spacy.load(\"en_core_web_md\")"
   ]
  },
  {
   "cell_type": "code",
   "execution_count": 27,
   "metadata": {},
   "outputs": [],
   "source": [
    "def similatity_matrix(sent_doc):\n",
    "    sim_mat = np.zeros((len(sent_doc), len(sent_doc)))\n",
    "    for i, row in enumerate(sent_doc):\n",
    "        for j, col in enumerate(sent_doc):\n",
    "            #print(row, col)\n",
    "            sim_val = row.similarity(col)\n",
    "            sim_mat[i][j] = sim_val\n",
    "    return sim_mat"
   ]
  },
  {
   "cell_type": "code",
   "execution_count": 30,
   "metadata": {},
   "outputs": [],
   "source": [
    "def similar_sent_idx(sim_matrix, threshold = 0.75):\n",
    "    idx = np.arange(len(sim_matrix))\n",
    "    sim_idx = [] \n",
    "    for i in range(sim_matrix.shape[0]):\n",
    "        isim_idx = idx[sim_matrix[i] >= threshold]\n",
    "        \n",
    "        if isim_idx.tolist() not in sim_idx:\n",
    "            sim_idx.append(isim_idx.tolist())\n",
    "    return sim_idx"
   ]
  },
  {
   "cell_type": "code",
   "execution_count": 31,
   "metadata": {},
   "outputs": [],
   "source": [
    "def similar_sentences(sent_data):\n",
    "    sent_array = np.array(sent_data)\n",
    "    sent_doc = list(map(nlp, sent_data))\n",
    "    sim_mat = similatity_matrix(sent_doc)\n",
    "    sim_sent_idx = similar_sent_idx(sim_mat)\n",
    "    similar_sentences = [sent_array[idx].tolist() for idx in sim_sent_idx]\n",
    "    return similar_sentences"
   ]
  },
  {
   "cell_type": "code",
   "execution_count": 32,
   "metadata": {},
   "outputs": [
    {
     "name": "stdout",
     "output_type": "stream",
     "text": [
      "[['Football is played in Brazil', 'Cricket is played in India'],\n",
      " ['Traveling is good for health', 'People love traveling in winter']]\n"
     ]
    }
   ],
   "source": [
    "if __name__ == \"__main__\":\n",
    "    with open(\"../../problem/list_of_sentences\", 'r') as txt:\n",
    "        sent_data = txt.read().strip().split(\"\\n\")\n",
    "    from pprint import pprint\n",
    "    #pprint(similar_sentences(sent_data))\n",
    "    \n",
    "   \n",
    "    \n",
    "    pprint(similar_sentences([\"Football is played in Brazil\" ,\n",
    "                              \"Cricket is played in India\",\n",
    "                              \"Traveling is good for health\",\n",
    "                              \"People love traveling in winter\"]))\n"
   ]
  },
  {
   "cell_type": "code",
   "execution_count": null,
   "metadata": {},
   "outputs": [],
   "source": []
  }
 ],
 "metadata": {
  "kernelspec": {
   "display_name": "Python 3",
   "language": "python",
   "name": "python3"
  },
  "language_info": {
   "codemirror_mode": {
    "name": "ipython",
    "version": 3
   },
   "file_extension": ".py",
   "mimetype": "text/x-python",
   "name": "python",
   "nbconvert_exporter": "python",
   "pygments_lexer": "ipython3",
   "version": "3.7.6"
  }
 },
 "nbformat": 4,
 "nbformat_minor": 4
}
