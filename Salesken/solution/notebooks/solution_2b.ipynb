{
 "cells": [
  {
   "cell_type": "markdown",
   "metadata": {},
   "source": [
    "# Problem 2b\n",
    "- Extend the above algorithm in form of a REST API.\n",
    "  - Using **Flask**, a micro framework.\n",
    "  - Post list of sentences to **/sim_sent**.(Content type: \"application/json\")\n",
    "  - It return list of similar grouped sentences.\n",
    "  - Ex: **curl --header \"Content-Type: application/json\" --request POST --data '[\"Football is played in Brazil\", \"Cricket is played in India\", \"Traveling is good for health\", \"People love traveling in winter\"]' http://localhost:5000/sim_sent**"
   ]
  },
  {
   "cell_type": "code",
   "execution_count": 4,
   "metadata": {},
   "outputs": [],
   "source": [
    "import spacy\n",
    "import numpy as np\n",
    "from solution_2a import *\n",
    "\n",
    "from flask import Flask, jsonify, request"
   ]
  },
  {
   "cell_type": "code",
   "execution_count": 5,
   "metadata": {},
   "outputs": [],
   "source": [
    "app = Flask(__name__)"
   ]
  },
  {
   "cell_type": "code",
   "execution_count": 6,
   "metadata": {},
   "outputs": [],
   "source": [
    "@app.route('/', methods = ['GET'])\n",
    "def hello():\n",
    "    return \"\"\"Hello, Please POST list of sentence to '/sim_sent'.\"\"\"\n",
    "\n",
    "@app.route('/sim_sent', methods = ['POST'])\n",
    "def sim_sent():\n",
    "    if request.method == \"POST\":\n",
    "        data = request.get_json(force=True)\n",
    "        if len(data) >= 2:\n",
    "            sim_sentences = similar_sentences(data)\n",
    "        else:\n",
    "            return \"Please post more than one sentence to find similar sentences.\"\n",
    "        return jsonify(sim_sentences)\n",
    "    else:\n",
    "        return \"Please use POST method.\""
   ]
  },
  {
   "cell_type": "code",
   "execution_count": 7,
   "metadata": {},
   "outputs": [
    {
     "name": "stdout",
     "output_type": "stream",
     "text": [
      " * Serving Flask app \"__main__\" (lazy loading)\n",
      " * Environment: production\n",
      "   WARNING: This is a development server. Do not use it in a production deployment.\n",
      "   Use a production WSGI server instead.\n",
      " * Debug mode: off\n"
     ]
    },
    {
     "name": "stderr",
     "output_type": "stream",
     "text": [
      " * Running on http://127.0.0.1:5000/ (Press CTRL+C to quit)\n"
     ]
    }
   ],
   "source": [
    "if __name__ == '__main__':\n",
    "    app.run(port = 5000)\n",
    "    \"\"\"\n",
    "    print(similar_sentences([\n",
    "        \"Football is played in Brazil\" ,\n",
    "        \"Cricket is played in India\",\n",
    "        \"Traveling is good for health\",\n",
    "        \"People love traveling in winter\"\n",
    "    ]))\n",
    "    \"\"\""
   ]
  },
  {
   "cell_type": "code",
   "execution_count": null,
   "metadata": {},
   "outputs": [],
   "source": []
  }
 ],
 "metadata": {
  "@webio": {
   "lastCommId": null,
   "lastKernelId": null
  },
  "kernelspec": {
   "display_name": "Python 3",
   "language": "python",
   "name": "python3"
  },
  "language_info": {
   "codemirror_mode": {
    "name": "ipython",
    "version": 3
   },
   "file_extension": ".py",
   "mimetype": "text/x-python",
   "name": "python",
   "nbconvert_exporter": "python",
   "pygments_lexer": "ipython3",
   "version": "3.7.6"
  }
 },
 "nbformat": 4,
 "nbformat_minor": 4
}
